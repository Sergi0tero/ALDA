{
  "nbformat": 4,
  "nbformat_minor": 0,
  "metadata": {
    "colab": {
      "provenance": [],
      "authorship_tag": "ABX9TyMUmzumr7O1zdQPZuZ+/jqc",
      "include_colab_link": true
    },
    "kernelspec": {
      "name": "python3",
      "display_name": "Python 3"
    },
    "language_info": {
      "name": "python"
    }
  },
  "cells": [
    {
      "cell_type": "markdown",
      "metadata": {
        "id": "view-in-github",
        "colab_type": "text"
      },
      "source": [
        "<a href=\"https://colab.research.google.com/github/Sergi0tero/ALDA/blob/main/Week01_ALDA.ipynb\" target=\"_parent\"><img src=\"https://colab.research.google.com/assets/colab-badge.svg\" alt=\"Open In Colab\"/></a>"
      ]
    },
    {
      "cell_type": "code",
      "source": [
        "import matplotlib as plt\n",
        "import pandas as pd\n",
        "import random\n",
        "import string"
      ],
      "metadata": {
        "id": "yBbL59FchOVE"
      },
      "execution_count": null,
      "outputs": []
    },
    {
      "cell_type": "code",
      "execution_count": null,
      "metadata": {
        "colab": {
          "base_uri": "https://localhost:8080/"
        },
        "id": "0E1b6SXRfn0R",
        "outputId": "0ac4cc28-ad75-4eff-898b-f086b9bdd4a8"
      },
      "outputs": [
        {
          "output_type": "stream",
          "name": "stdout",
          "text": [
            "Hello World\n"
          ]
        }
      ],
      "source": [
        "print(\"Hello World\")"
      ]
    },
    {
      "cell_type": "markdown",
      "source": [
        "# Funciones"
      ],
      "metadata": {
        "id": "6xUnipkSrHSo"
      }
    },
    {
      "cell_type": "code",
      "source": [
        "#Random numbers in interval\n",
        "\n",
        "def ranInInterval(minVal, maxVal):\n",
        "  print(random.randint(minVal, maxVal))"
      ],
      "metadata": {
        "id": "6hFFYXD4g1e7"
      },
      "execution_count": null,
      "outputs": []
    },
    {
      "cell_type": "code",
      "source": [
        "#Random strings from sizes and alphabet\n",
        "def ranString(size):\n",
        "  newString = \"\"\n",
        "  for i in range(size):\n",
        "    newString += string.ascii_letters[random.randint(0, len(string.ascii_letters) - 1)]\n",
        "  print(newString)"
      ],
      "metadata": {
        "id": "ZnBapOWwnf4K"
      },
      "execution_count": null,
      "outputs": []
    },
    {
      "cell_type": "code",
      "source": [
        "#Random string choosing from dictionary file\n",
        "def ranFromDict(dict):\n",
        "  file = open(dict)\n",
        "  splited_file = file.read().split()\n",
        "  print(random.choice(splited_file))"
      ],
      "metadata": {
        "id": "kAGeNigbg2J_"
      },
      "execution_count": null,
      "outputs": []
    },
    {
      "cell_type": "code",
      "source": [
        "#Random sets of IDs within interval\n",
        "def ranIdSet(size, minVal, maxVal):\n",
        "  newSet = set()\n",
        "  if maxVal - minVal + 1 < size:\n",
        "    print(\"Intervalo no valido\")\n",
        "  else:\n",
        "    while(len(newSet) < size):\n",
        "      new_val = random.randint(minVal, maxVal)\n",
        "      if (new_val not in newSet):\n",
        "        newSet.add(new_val)\n",
        "    print(newSet)"
      ],
      "metadata": {
        "id": "wm29IZgXnm8V"
      },
      "execution_count": null,
      "outputs": []
    },
    {
      "cell_type": "code",
      "source": [
        "#Random sets of strings with some conditions\n",
        "def rand_email():\n",
        "  mail_dom = [\"@yahoo.com\", \"@gmail.com\", \"@outlook.com\", \"@hotmail.com\"]\n",
        "  user_name = []\n",
        "  for i in range(0, 10):\n",
        "    user_name += string.ascii_letters[random.randint(0, len(string.ascii_letters) - 1)]\n",
        "  for i in range(1, 3):\n",
        "    user_name += str(random.randint(0, len(string.ascii_letters) - 1))\n",
        "  new_mail = \"\".join(user_name) + random.choice(mail_dom)\n",
        "  print(new_mail)"
      ],
      "metadata": {
        "id": "4WXux_8Rno6F"
      },
      "execution_count": null,
      "outputs": []
    },
    {
      "cell_type": "code",
      "source": [
        "#Random Colombian Addresses\n",
        "def ranAddress():\n",
        "  address_type = [\"Cll \", \"Cra \", \"Trans \", \"Dg \"]\n",
        "  letter = [\" \", \"a\", \"b\", \"c\", \"d\", \"a Bis\", \"b Bis\", \"c Bis\", \"d Bis\"]\n",
        "  selected_type = random.choice(address_type)\n",
        "  selected_letter = random.choice(letter)\n",
        "  first = str(random.randint(1, 246)) if selected_type == 'Cll' or selected_type == 'Dg' else str(random.randint(1, 160))\n",
        "  second = str(random.randint(1, 160)) if selected_type == 'Cll' or selected_type == 'Dg' else str(random.randint(1, 246))\n",
        "  third = str(random.randint(1, 100))\n",
        "  final_address = selected_type + first + selected_letter + \" #\" + second + \" - \" + third\n",
        "  print(final_address)"
      ],
      "metadata": {
        "id": "DN84-gOVnsBN"
      },
      "execution_count": null,
      "outputs": []
    },
    {
      "cell_type": "markdown",
      "source": [
        "# Pruebas"
      ],
      "metadata": {
        "id": "x3DVv7Viq_6v"
      }
    },
    {
      "cell_type": "code",
      "source": [
        "ranInInterval(1, 10)"
      ],
      "metadata": {
        "colab": {
          "base_uri": "https://localhost:8080/"
        },
        "id": "llF_jarvo31Y",
        "outputId": "e7f6a710-d743-4620-f06e-1af72068631c"
      },
      "execution_count": null,
      "outputs": [
        {
          "output_type": "stream",
          "name": "stdout",
          "text": [
            "2\n"
          ]
        }
      ]
    },
    {
      "cell_type": "code",
      "source": [
        "ranString(10)"
      ],
      "metadata": {
        "colab": {
          "base_uri": "https://localhost:8080/"
        },
        "id": "rO1eYps5o94q",
        "outputId": "04452461-587f-47d2-df44-63a9fa3c518f"
      },
      "execution_count": null,
      "outputs": [
        {
          "output_type": "stream",
          "name": "stdout",
          "text": [
            "XPRYMmwaSx\n"
          ]
        }
      ]
    },
    {
      "cell_type": "code",
      "source": [
        "ranFromDict(\"/content/alo.txt\")"
      ],
      "metadata": {
        "colab": {
          "base_uri": "https://localhost:8080/"
        },
        "id": "987ZLErmk0bV",
        "outputId": "5c9ad719-144f-4325-a07b-fce47b1ea121"
      },
      "execution_count": null,
      "outputs": [
        {
          "output_type": "stream",
          "name": "stdout",
          "text": [
            "la\n"
          ]
        }
      ]
    },
    {
      "cell_type": "code",
      "source": [
        "ranIdSet(5, 1, 10)"
      ],
      "metadata": {
        "colab": {
          "base_uri": "https://localhost:8080/"
        },
        "id": "iyhMgO4HlQI4",
        "outputId": "a9da94c7-a3f5-4cf9-8ae1-812c8a2713a8"
      },
      "execution_count": null,
      "outputs": [
        {
          "output_type": "stream",
          "name": "stdout",
          "text": [
            "{2, 3, 4, 8, 10}\n"
          ]
        }
      ]
    },
    {
      "cell_type": "code",
      "source": [
        "rand_email()"
      ],
      "metadata": {
        "colab": {
          "base_uri": "https://localhost:8080/"
        },
        "id": "LEXNYpPkbsgL",
        "outputId": "f8e322ed-449c-492b-91e5-0a9003b2d126"
      },
      "execution_count": null,
      "outputs": [
        {
          "output_type": "stream",
          "name": "stdout",
          "text": [
            "togCtJOzuJ2623@outlook.com\n"
          ]
        }
      ]
    },
    {
      "cell_type": "code",
      "source": [
        "ranAddress()"
      ],
      "metadata": {
        "colab": {
          "base_uri": "https://localhost:8080/"
        },
        "id": "fNY48-Y9hM6h",
        "outputId": "5d337582-db44-448f-a43a-5d4acb53ea51"
      },
      "execution_count": null,
      "outputs": [
        {
          "output_type": "stream",
          "name": "stdout",
          "text": [
            "Trans 107d Bis #28 - 78\n"
          ]
        }
      ]
    }
  ]
}